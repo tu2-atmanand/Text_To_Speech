{
 "metadata": {
  "language_info": {
   "codemirror_mode": {
    "name": "ipython",
    "version": 3
   },
   "file_extension": ".py",
   "mimetype": "text/x-python",
   "name": "python",
   "nbconvert_exporter": "python",
   "pygments_lexer": "ipython3",
   "version": "3.9.5"
  },
  "orig_nbformat": 2,
  "kernelspec": {
   "name": "python395jvsc74a57bd095f4f6f5d23746760f8cb45ccfab6c62d3075ef70bd9055cff4c0547a8a5c530",
   "display_name": "Python 3.9.5 64-bit"
  },
  "metadata": {
   "interpreter": {
    "hash": "95f4f6f5d23746760f8cb45ccfab6c62d3075ef70bd9055cff4c0547a8a5c530"
   }
  }
 },
 "nbformat": 4,
 "nbformat_minor": 2,
 "cells": [
  {
   "cell_type": "code",
   "execution_count": null,
   "metadata": {},
   "outputs": [],
   "source": [
    "print(\"Hello Github\")"
   ]
  },
  {
   "cell_type": "code",
   "execution_count": 2,
   "metadata": {},
   "outputs": [
    {
     "output_type": "stream",
     "name": "stdout",
     "text": [
      "hello jupiter\n"
     ]
    },
    {
     "output_type": "execute_result",
     "data": {
      "text/plain": [
       "{'aple': 25, 'grapes': 77}"
      ]
     },
     "metadata": {},
     "execution_count": 2
    }
   ],
   "source": [
    "print(\"hello jupiter\")\n",
    "li = {}\n",
    "li[\"aple\"]= 25\n",
    "li[\"grapes\"] = 77\n",
    "li"
   ]
  },
  {
   "cell_type": "code",
   "execution_count": 1,
   "metadata": {},
   "outputs": [
    {
     "output_type": "stream",
     "name": "stdout",
     "text": [
      "{'you': ['jam', 'sam', 'ram'], 'sam': ['juju', 'kem'], 'juju': ['mam', 'lol', 'hol'], 'lol': ['fourth']}\n"
     ]
    }
   ],
   "source": [
    "li = {}\n",
    "li[\"you\"] = [\"jam\",\"sam\",\"ram\"]\n",
    "li[\"sam\"] = [\"juju\",\"kem\"]\n",
    "li[\"juju\"] = [\"mam\",\"lol\",\"hol\"]\n",
    "li[\"lol\"] = [\"fourth\"]\n",
    "print(li)"
   ]
  }
 ]
}